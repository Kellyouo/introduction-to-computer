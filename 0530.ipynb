{
  "nbformat": 4,
  "nbformat_minor": 0,
  "metadata": {
    "colab": {
      "name": "0530.ipynb",
      "provenance": [],
      "authorship_tag": "ABX9TyOwIfFXNxYa06dpVHBCW3qC",
      "include_colab_link": true
    },
    "kernelspec": {
      "name": "python3",
      "display_name": "Python 3"
    },
    "language_info": {
      "name": "python"
    }
  },
  "cells": [
    {
      "cell_type": "markdown",
      "metadata": {
        "id": "view-in-github",
        "colab_type": "text"
      },
      "source": [
        "<a href=\"https://colab.research.google.com/github/Kellyouo/introduction-to-computer/blob/main/0530.ipynb\" target=\"_parent\"><img src=\"https://colab.research.google.com/assets/colab-badge.svg\" alt=\"Open In Colab\"/></a>"
      ]
    },
    {
      "cell_type": "code",
      "execution_count": 1,
      "metadata": {
        "colab": {
          "base_uri": "https://localhost:8080/"
        },
        "id": "zFQMkebGBfV4",
        "outputId": "59e50dca-1365-453b-eb7a-33ae9ce19876"
      },
      "outputs": [
        {
          "output_type": "stream",
          "name": "stdout",
          "text": [
            "請輸入a的值4\n",
            "請輸入b的值6\n",
            "4和6的最小公倍數 = 12\n"
          ]
        }
      ],
      "source": [
        "a = int(input(\"請輸入a的值\"))\n",
        "b = int(input(\"請輸入b的值\"))\n",
        "\n",
        "maxno = a * b\n",
        "for i in range(1, maxno+1):\n",
        "    if(i % a ==0 and i % b == 0):\n",
        "        break\n",
        "print(\"%d和%d的最小公倍數 = %d\" %(a,b,i))"
      ]
    },
    {
      "cell_type": "code",
      "source": [
        "n = int(input(\"請輸入正整數:\"))\n",
        "for i in range(1,n+1):\n",
        "    if i % 5 == 0:\n",
        "        continue\n",
        "    print(i, end=\" \")"
      ],
      "metadata": {
        "colab": {
          "base_uri": "https://localhost:8080/"
        },
        "id": "nfnJ9LHFHGPy",
        "outputId": "c5a0fc07-9949-4aa7-e554-9f4d8c353434"
      },
      "execution_count": 2,
      "outputs": [
        {
          "output_type": "stream",
          "name": "stdout",
          "text": [
            "請輸入正整數:21\n",
            "1 2 3 4 6 7 8 9 11 12 13 14 16 17 18 19 21 "
          ]
        }
      ]
    },
    {
      "cell_type": "code",
      "source": [
        "total = n = 0\n",
        "while(n<= 10):\n",
        "    total += n\n",
        "    n += 1\n",
        "print(total)"
      ],
      "metadata": {
        "colab": {
          "base_uri": "https://localhost:8080/"
        },
        "id": "YCqoFLylIUx9",
        "outputId": "59c8da0f-13a2-4720-b36a-c07102540381"
      },
      "execution_count": 3,
      "outputs": [
        {
          "output_type": "stream",
          "name": "stdout",
          "text": [
            "55\n"
          ]
        }
      ]
    },
    {
      "cell_type": "code",
      "source": [
        "total = i = 1\n",
        "n = int(input(\"請輸入正整數n的值:\"))\n",
        "while i<= n:\n",
        "    total *= i\n",
        "    i +=1\n",
        "print(\"%d!=%d\" % (n,total))"
      ],
      "metadata": {
        "colab": {
          "base_uri": "https://localhost:8080/"
        },
        "id": "gF3g6IVxLcGG",
        "outputId": "c7db334f-4651-4d6e-d086-a6899ed9ec0a"
      },
      "execution_count": 5,
      "outputs": [
        {
          "output_type": "stream",
          "name": "stdout",
          "text": [
            "請輸入正整數n的值:100\n",
            "100!=93326215443944152681699238856266700490715968264381621468592963895217599993229915608941463976156518286253697920827223758251185210916864000000000000000000000000\n"
          ]
        }
      ]
    },
    {
      "cell_type": "code",
      "source": [
        "a = 0\n",
        "total = i = 0\n",
        "while (i<=50):\n",
        "    total += i\n",
        "    i += 2\n",
        "print(\"0~50的偶數和結果是\",total)"
      ],
      "metadata": {
        "colab": {
          "base_uri": "https://localhost:8080/"
        },
        "id": "ZJeluwvRMgrY",
        "outputId": "6f68393d-aa7a-4012-9dbe-8bbee2e29972"
      },
      "execution_count": 17,
      "outputs": [
        {
          "output_type": "stream",
          "name": "stdout",
          "text": [
            "0~50的偶數和結果是 650\n"
          ]
        }
      ]
    },
    {
      "cell_type": "code",
      "source": [
        "a = 0\n",
        "total = i = 1\n",
        "while i<=50:\n",
        "    total += i\n",
        "    i +=2\n",
        "print('0~50的奇數和結果是%d' %(total-1))"
      ],
      "metadata": {
        "colab": {
          "base_uri": "https://localhost:8080/"
        },
        "id": "pjKwfhgzafot",
        "outputId": "76f41ab7-abf0-4b41-fc78-3b05b0ba6d8e"
      },
      "execution_count": 25,
      "outputs": [
        {
          "output_type": "stream",
          "name": "stdout",
          "text": [
            "0~50的奇數和結果是625\n"
          ]
        }
      ]
    },
    {
      "cell_type": "code",
      "source": [
        "sum = 0\n",
        "for i in range (1,101):\n",
        "    if (i%3 == 0 or i%7 == 0):\n",
        "      sum += i\n",
        "print(\"數值數值1~100中，所有是3或是7的倍數的數之總和=\" +str(sum))"
      ],
      "metadata": {
        "colab": {
          "base_uri": "https://localhost:8080/"
        },
        "id": "9af6uD-abawP",
        "outputId": "b21bd924-9696-4d0b-fc5d-039c77ee8e42"
      },
      "execution_count": 28,
      "outputs": [
        {
          "output_type": "stream",
          "name": "stdout",
          "text": [
            "數值數值1~100中，所有是3或是7的倍數的數之總和=2208\n"
          ]
        }
      ]
    },
    {
      "cell_type": "code",
      "source": [
        "n=int(input(\"請輸入正整數:\"))\n",
        "list1=[i for i in range(1,n+1)]\n",
        "list2=list1[::-1]\n",
        "list3=[]\n",
        "for a in list1:\n",
        "    for b in list2:\n",
        "        if a*b==n:\n",
        "            list3.append(a)\n",
        "print(n,\"的因數有\",list3)\n",
        "\n",
        "c=2\n",
        "while c<n:\n",
        "        if n%c == 0:\n",
        "                print(n,'不是質數')\n",
        "                break\n",
        "        c+=1\n",
        "if c==n:\n",
        "        print(n,'是質數')"
      ],
      "metadata": {
        "colab": {
          "base_uri": "https://localhost:8080/"
        },
        "id": "avji73CEfY8p",
        "outputId": "bec86641-f8c2-40a5-8653-8636de158930"
      },
      "execution_count": 37,
      "outputs": [
        {
          "output_type": "stream",
          "name": "stdout",
          "text": [
            "請輸入正整數:12\n",
            "12 的因數有 [1, 2, 3, 4, 6, 12]\n",
            "12 不是質數\n"
          ]
        }
      ]
    },
    {
      "cell_type": "code",
      "source": [
        "n=int(input(\"請輸入正整數:\"))\n",
        "list1=[i for i in range(1,n+1)]\n",
        "list2=list1[::-1]\n",
        "list3=[]\n",
        "for a in list1:\n",
        "    for b in list2:\n",
        "        if a*b==n:\n",
        "            list3.append(a)\n",
        "print(n,\"的因數有\",list3)\n",
        "\n",
        "c=2\n",
        "while c<n:\n",
        "        if n%c == 0:\n",
        "                print(n,'不是質數')\n",
        "                break\n",
        "        c+=1\n",
        "if c==n:\n",
        "        print(n,'是質數')"
      ],
      "metadata": {
        "colab": {
          "base_uri": "https://localhost:8080/"
        },
        "id": "jKJ9LcqkhU5a",
        "outputId": "8a450826-3bbf-4746-a244-3cbcc07d9c17"
      },
      "execution_count": 38,
      "outputs": [
        {
          "output_type": "stream",
          "name": "stdout",
          "text": [
            "請輸入正整數:11\n",
            "11 的因數有 [1, 11]\n",
            "11 是質數\n"
          ]
        }
      ]
    }
  ]
}