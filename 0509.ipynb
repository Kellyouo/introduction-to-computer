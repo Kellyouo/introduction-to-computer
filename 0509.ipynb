{
  "nbformat": 4,
  "nbformat_minor": 0,
  "metadata": {
    "colab": {
      "name": "0509.ipynb",
      "provenance": [],
      "authorship_tag": "ABX9TyMqrL5vIZfk9Br54iDU9F2m",
      "include_colab_link": true
    },
    "kernelspec": {
      "name": "python3",
      "display_name": "Python 3"
    },
    "language_info": {
      "name": "python"
    }
  },
  "cells": [
    {
      "cell_type": "markdown",
      "metadata": {
        "id": "view-in-github",
        "colab_type": "text"
      },
      "source": [
        "<a href=\"https://colab.research.google.com/github/Kellyouo/introduction-to-computer/blob/main/0509.ipynb\" target=\"_parent\"><img src=\"https://colab.research.google.com/assets/colab-badge.svg\" alt=\"Open In Colab\"/></a>"
      ]
    },
    {
      "cell_type": "code",
      "execution_count": 9,
      "metadata": {
        "colab": {
          "base_uri": "https://localhost:8080/"
        },
        "id": "71SZuug97lN_",
        "outputId": "9b6cd133-82c1-4b0c-ec20-d4c52922d5f4"
      },
      "outputs": [
        {
          "output_type": "stream",
          "name": "stdout",
          "text": [
            "請輸入你的體溫33.9\n",
            "體溫異常，請重新量測！\n"
          ]
        }
      ],
      "source": [
        "temp = float(input(\"請輸入你的體溫\"))\n",
        "if temp >= 37.5:\n",
        "    print(\"體溫過高！\")\n",
        "elif temp >= 37 and temp < 37.4:\n",
        "    print(\"體溫略高！\")\n",
        "elif temp >= 34 and temp <= 36.9:\n",
        "    print(\"體溫正常！\")\n",
        "else:\n",
        "    print(\"體溫異常，請重新量測！\")"
      ]
    },
    {
      "cell_type": "code",
      "source": [
        "score = int(input(\"請輸入成績\"))\n",
        "if score >= 90:\n",
        "    print(\"A\")\n",
        "elif score < 90 and score >= 80:\n",
        "    print(\"B\")\n",
        "elif score < 80 and score >= 70:\n",
        "    print(\"C\")\n",
        "elif score < 70 and score >= 60:\n",
        "    print(\"D\")\n",
        "else:\n",
        "    print(\"E\")"
      ],
      "metadata": {
        "colab": {
          "base_uri": "https://localhost:8080/"
        },
        "id": "wqhlLYZE_uFk",
        "outputId": "9abf8310-fd24-4ff4-e3e2-f80da75f8cca"
      },
      "execution_count": 12,
      "outputs": [
        {
          "output_type": "stream",
          "name": "stdout",
          "text": [
            "請輸入成績50\n",
            "E\n"
          ]
        }
      ]
    },
    {
      "cell_type": "code",
      "source": [
        "money = int(input(\"請輸入購物金額:\"))\n",
        "if (money >= 10000):\n",
        "  if(money >= 100000):\n",
        "    print(\"八折\",money *0.8, end = \"元\\n\")\n",
        "  elif (money >= 50000):\n",
        "    print(\"八五折\",money *0.85, end = \"元\\n\")\n",
        "  elif (money >= 30000):\n",
        "    print(\"九折\",money *0.9, end = \"元\\n\")\n",
        "  elif (money >= 10000):\n",
        "    print(\"九五折\",money *0.95, end = \"元\\n\")\n",
        "else:\n",
        "  print(\"沒打折\",money,end = \"元\\n\")"
      ],
      "metadata": {
        "colab": {
          "base_uri": "https://localhost:8080/"
        },
        "id": "SvntNdAlElOf",
        "outputId": "dfa49212-d894-464e-d0b8-27bd28804361"
      },
      "execution_count": 15,
      "outputs": [
        {
          "output_type": "stream",
          "name": "stdout",
          "text": [
            "請輸入購物金額:50000\n",
            "八五折 42500.0元\n"
          ]
        }
      ]
    },
    {
      "cell_type": "code",
      "source": [
        "month = int(input(\"請輸入月份\"))\n",
        "if (month == 3 or month == 4 or month == 5):\n",
        "    print(month,\"月是春天!\")  \n",
        "elif (month == 6 or month == 7 or month == 8):\n",
        "    print(month,\"月是夏天!\")\n",
        "elif (month == 9 or month == 10 or month == 11):\n",
        "    print(month,\"月是秋天!\")\n",
        "elif (month == 12 or month == 1 or month == 2):\n",
        "    print(month,\"月是冬天!\")\n",
        "else:\n",
        "  print(month,\"月份不在範圍內!\")"
      ],
      "metadata": {
        "colab": {
          "base_uri": "https://localhost:8080/"
        },
        "id": "D5X5KhAeHX7M",
        "outputId": "0e2575f2-4f74-4b86-e864-c17d8e91531a"
      },
      "execution_count": 22,
      "outputs": [
        {
          "output_type": "stream",
          "name": "stdout",
          "text": [
            "請輸入月份7\n",
            "7 月是夏天!\n"
          ]
        }
      ]
    },
    {
      "cell_type": "code",
      "source": [
        "money = int(input(\"請輸入今年收入淨額:\"))\n",
        "if (money >= 300000):\n",
        "  if(money >= 2000000):\n",
        "    print(\"付稅金額:\",money *0.3, end = \"元\\n\")\n",
        "  elif (money >= 1000000):\n",
        "    print(\"付稅金額:\",money *0.21, end = \"元\\n\")\n",
        "  elif (money >= 600000):\n",
        "    print(\"付稅金額:\",money *0.13, end = \"元\\n\")\n",
        "  elif (money >= 300000):\n",
        "    print(\"付稅金額:\",money *0.06, end = \"元\\n\")\n",
        "else:\n",
        "  print(\"付稅金額:\",money *0, end = \"元\\n\")"
      ],
      "metadata": {
        "colab": {
          "base_uri": "https://localhost:8080/"
        },
        "id": "Qmjn29BgJmza",
        "outputId": "17500720-6a80-4cf2-a69b-728427910211"
      },
      "execution_count": 24,
      "outputs": [
        {
          "output_type": "stream",
          "name": "stdout",
          "text": [
            "請輸入今年收入淨額:2000000\n",
            "付稅金額: 600000.0元\n"
          ]
        }
      ]
    }
  ]
}